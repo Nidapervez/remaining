{
  "nbformat": 4,
  "nbformat_minor": 0,
  "metadata": {
    "colab": {
      "provenance": [],
      "authorship_tag": "ABX9TyOW6DQfMtBtSIASpK0NMpvx",
      "include_colab_link": true
    },
    "kernelspec": {
      "name": "python3",
      "display_name": "Python 3"
    },
    "language_info": {
      "name": "python"
    }
  },
  "cells": [
    {
      "cell_type": "markdown",
      "metadata": {
        "id": "view-in-github",
        "colab_type": "text"
      },
      "source": [
        "<a href=\"https://colab.research.google.com/github/Nidapervez/project4/blob/main/Intropython.ipynb\" target=\"_parent\"><img src=\"https://colab.research.google.com/assets/colab-badge.svg\" alt=\"Open In Colab\"/></a>"
      ]
    },
    {
      "cell_type": "code",
      "source": [],
      "metadata": {
        "id": "d2vkWGnTEJrv"
      },
      "execution_count": null,
      "outputs": []
    },
    {
      "cell_type": "markdown",
      "source": [],
      "metadata": {
        "id": "odsmaOkQEIWP"
      }
    },
    {
      "cell_type": "markdown",
      "source": [
        "# **Perimeter triangle**\n"
      ],
      "metadata": {
        "id": "kWw2oS47EMve"
      }
    },
    {
      "cell_type": "code",
      "source": [
        "def main():\n",
        "    # Get the three side lengths of the triangle\n",
        "    side1 = float(input(\"What is the length of side 1? \"))\n",
        "    side2 = float(input(\"What is the length of side 2? \"))\n",
        "    side3 = float(input(\"What is the length of side 3? \"))\n",
        "\n",
        "    # Calculate the perimeter\n",
        "    perimeter = side1 + side2 + side3\n",
        "\n",
        "    # Print the perimeter\n",
        "    print(f\"The perimeter of the triangle is {perimeter}\")\n",
        "\n",
        "# Required line to call the main function\n",
        "if __name__ == '__main__':\n",
        "    main()\n"
      ],
      "metadata": {
        "id": "igBkT8ayD6N0"
      },
      "execution_count": null,
      "outputs": []
    },
    {
      "cell_type": "markdown",
      "source": [],
      "metadata": {
        "id": "Nuqon6SqEG6i"
      }
    },
    {
      "cell_type": "markdown",
      "source": [
        "\n",
        "# **How old are they**\n"
      ],
      "metadata": {
        "id": "Usjr9yqeBPUn"
      }
    },
    {
      "cell_type": "code",
      "source": [
        "def main():\n",
        "    # Define ages based on the given conditions\n",
        "    anton = 21  # Anton's age is 21\n",
        "    beth = anton + 6  # Beth is 6 years older than Anton\n",
        "    chen = beth + 20  # Chen is 20 years older than Beth\n",
        "    drew = chen + anton  # Drew is as old as Chen's age plus Anton's age\n",
        "    ethan = chen  # Ethan is the same age as Chen\n",
        "\n",
        "    # Print the results\n",
        "    print(\"Anton is\", anton)\n",
        "    print(\"Beth is\", beth)\n",
        "    print(\"Chen is\", chen)\n",
        "    print(\"Drew is\", drew)\n",
        "    print(\"Ethan is\", ethan)\n",
        "\n",
        "# Required line to call the main function\n",
        "if __name__ == '__main__':\n",
        "    main()"
      ],
      "metadata": {
        "id": "JSqS0GvGDNt4"
      },
      "execution_count": null,
      "outputs": []
    },
    {
      "cell_type": "code",
      "source": [],
      "metadata": {
        "id": "4a54bzYjDv2L"
      },
      "execution_count": null,
      "outputs": []
    },
    {
      "cell_type": "markdown",
      "source": [
        "# **Square number**\n"
      ],
      "metadata": {
        "id": "o24UeZJsD3V5"
      }
    },
    {
      "cell_type": "code",
      "source": [
        "def main():\n",
        "    # Prompt the user for a number\n",
        "    num = float(input(\"Type a number to see its square: \"))\n",
        "\n",
        "    # Calculate the square\n",
        "    square = num ** 2\n",
        "\n",
        "    # Print the result using an f-string\n",
        "    print(f\"{num} squared is {square}\")\n",
        "\n",
        "# Required line to call the main function\n",
        "if __name__ == '__main__':\n",
        "    main()\n"
      ],
      "metadata": {
        "colab": {
          "base_uri": "https://localhost:8080/"
        },
        "id": "gK8iRcDxDwyO",
        "outputId": "a796f3db-01c5-4c78-81de-17330fa746cf"
      },
      "execution_count": null,
      "outputs": [
        {
          "output_type": "stream",
          "name": "stdout",
          "text": [
            "Type a number to see its square: 2\n",
            "2.0 squared is 4.0\n"
          ]
        }
      ]
    },
    {
      "cell_type": "markdown",
      "source": [
        "# **Fahrenheit to celcius**\n"
      ],
      "metadata": {
        "id": "f80TP2P1DgGX"
      }
    },
    {
      "cell_type": "code",
      "source": [
        "def main():\n",
        "    # Prompt the user for temperature in Fahrenheit\n",
        "    degrees_fahrenheit = float(input(\"Enter temperature in Fahrenheit: \"))\n",
        "\n",
        "    # Convert Fahrenheit to Celsius\n",
        "    degrees_celsius = (degrees_fahrenheit - 32) * 5.0 / 9.0\n",
        "\n",
        "    # Display the result\n",
        "    print(f\"Temperature: {degrees_fahrenheit}F = {degrees_celsius}C\")\n",
        "\n",
        "# This provided line is required at the end of\n",
        "# Python file to call the main() function.\n",
        "if __name__ == '__main__':\n",
        "    main()\n"
      ],
      "metadata": {
        "id": "5AQ4ptmxC8FO"
      },
      "execution_count": null,
      "outputs": []
    },
    {
      "cell_type": "markdown",
      "source": [
        "agreementbot2"
      ],
      "metadata": {
        "id": "6aZ3C7XLC4cG"
      }
    },
    {
      "cell_type": "code",
      "source": [
        "def main():\n",
        "    favorite_animal = input(\"What's your favorite animal? \")\n",
        "    print(f\"My favorite animal is also {favorite_animal}!\")\n",
        "\n",
        "# This provided line is required at the end of\n",
        "# Python file to call the main() function.\n",
        "if __name__ == '__main__':\n",
        "    main()"
      ],
      "metadata": {
        "id": "CQljjF5BBw6C"
      },
      "execution_count": null,
      "outputs": []
    },
    {
      "cell_type": "markdown",
      "source": [
        "# **Add2numbers**"
      ],
      "metadata": {
        "id": "x9v0y8G0B6yV"
      }
    },
    {
      "cell_type": "code",
      "source": [
        "\"\"\"\n",
        "Program: add2numbers\n",
        "--------------------\n",
        "This program asks the user for two integers and prints their sum.\n",
        "\"\"\"\n",
        "\n",
        "def main():\n",
        "    print(\"This program adds two numbers.\")\n",
        "\n",
        "    # Taking input from the user\n",
        "    num1 = int(input(\"Enter first number: \"))\n",
        "    num2 = int(input(\"Enter second number: \"))\n",
        "\n",
        "    # Calculating the sum\n",
        "    total = num1 + num2\n",
        "\n",
        "    # Displaying the result\n",
        "    print(\"The total is \" + str(total) + \".\")\n",
        "\n",
        "# Required to run the program\n",
        "if __name__ == '__main__':\n",
        "    main()"
      ],
      "metadata": {
        "id": "GDDDIlbnBIPZ"
      },
      "execution_count": null,
      "outputs": []
    },
    {
      "cell_type": "markdown",
      "source": [],
      "metadata": {
        "id": "Am8o3HQVCqEf"
      }
    }
  ]
}