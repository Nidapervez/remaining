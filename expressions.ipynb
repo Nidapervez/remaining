{
  "nbformat": 4,
  "nbformat_minor": 0,
  "metadata": {
    "colab": {
      "provenance": [],
      "authorship_tag": "ABX9TyOb9RbxIdbLgAOruXlf1NzO",
      "include_colab_link": true
    },
    "kernelspec": {
      "name": "python3",
      "display_name": "Python 3"
    },
    "language_info": {
      "name": "python"
    }
  },
  "cells": [
    {
      "cell_type": "markdown",
      "metadata": {
        "id": "view-in-github",
        "colab_type": "text"
      },
      "source": [
        "<a href=\"https://colab.research.google.com/github/Nidapervez/project4/blob/main/expressions.ipynb\" target=\"_parent\"><img src=\"https://colab.research.google.com/assets/colab-badge.svg\" alt=\"Open In Colab\"/></a>"
      ]
    },
    {
      "cell_type": "markdown",
      "source": [],
      "metadata": {
        "id": "nZ4ZI7DCyBj_"
      }
    },
    {
      "cell_type": "markdown",
      "source": [
        "# **Mad Libs Game**"
      ],
      "metadata": {
        "id": "RkgjCijsyHQ2"
      }
    },
    {
      "cell_type": "code",
      "source": [
        "\"\"\"\n",
        "Program: Mad Libs Game\n",
        "------------------------------\n",
        "Prompts the user for an adjective, a noun, and a verb,\n",
        "then constructs a fun sentence using their inputs.\n",
        "\"\"\"\n",
        "\n",
        "# Sentence starter constant\n",
        "SENTENCE_START = \"Panaversity is fun. I learned to program and used Python to make my\"\n",
        "\n",
        "def main():\n",
        "    \"\"\"Prompts the user for words and prints a fun sentence.\"\"\"\n",
        "    # Get user input\n",
        "    adjective = input(\"Please type an adjective and press enter: \")\n",
        "    noun = input(\"Please type a noun and press enter: \")\n",
        "    verb = input(\"Please type a verb and press enter: \")\n",
        "\n",
        "    # Construct and display the final sentence\n",
        "    print(f\"{SENTENCE_START} {adjective} {noun} {verb}!\")\n",
        "\n",
        "# Required line to execute main() when running the script\n",
        "if __name__ == '__main__':\n",
        "    main()\n"
      ],
      "metadata": {
        "id": "LrekYC8ix-PI",
        "colab": {
          "base_uri": "https://localhost:8080/"
        },
        "outputId": "8cac3002-084e-4d3e-a9ba-d208d66449cb"
      },
      "execution_count": 1,
      "outputs": [
        {
          "output_type": "stream",
          "name": "stdout",
          "text": [
            "Please type an adjective and press enter: red\n",
            "Please type a noun and press enter: karachi\n",
            "Please type a verb and press enter: dancing\n",
            "Panaversity is fun. I learned to program and used Python to make my red karachi dancing!\n"
          ]
        }
      ]
    },
    {
      "cell_type": "markdown",
      "source": [
        "# **seconds_in_a_year**"
      ],
      "metadata": {
        "id": "hclrkjmQx6O-"
      }
    },
    {
      "cell_type": "code",
      "source": [
        "\"\"\"\n",
        "Program: seconds_in_a_year\n",
        "------------------------------\n",
        "Calculates the number of seconds in a year using constants\n",
        "and displays the result in a well-formatted message.\n",
        "\"\"\"\n",
        "\n",
        "# Constants for time calculations\n",
        "DAYS_PER_YEAR = 365\n",
        "HOURS_PER_DAY = 24\n",
        "MINUTES_PER_HOUR = 60\n",
        "SECONDS_PER_MINUTE = 60\n",
        "\n",
        "def main():\n",
        "    \"\"\"Calculates and prints the number of seconds in a year.\"\"\"\n",
        "    seconds_in_year = DAYS_PER_YEAR * HOURS_PER_DAY * MINUTES_PER_HOUR * SECONDS_PER_MINUTE\n",
        "    print(f\"There are {seconds_in_year} seconds in a year!\")\n",
        "\n",
        "# Required line to execute main() when running the script\n",
        "if __name__ == '__main__':\n",
        "    main()\n"
      ],
      "metadata": {
        "id": "7d4jfzk8xxZ2",
        "colab": {
          "base_uri": "https://localhost:8080/"
        },
        "outputId": "c5a7fe5b-adc3-475f-883f-434af63e4c1a"
      },
      "execution_count": 2,
      "outputs": [
        {
          "output_type": "stream",
          "name": "stdout",
          "text": [
            "There are 31536000 seconds in a year!\n"
          ]
        }
      ]
    },
    {
      "cell_type": "markdown",
      "source": [],
      "metadata": {
        "id": "Ie2ETFjJwK3j"
      }
    },
    {
      "cell_type": "markdown",
      "source": [
        "# **dice_roller**"
      ],
      "metadata": {
        "id": "QT5uVNFjxr5m"
      }
    },
    {
      "cell_type": "code",
      "source": [
        "\"\"\"\n",
        "Program: dice_roller\n",
        "------------------------------\n",
        "Simulates rolling two dice, prints the results of each roll,\n",
        "and displays their total.\n",
        "\"\"\"\n",
        "\n",
        "import random  # Import the random module for simulating dice rolls\n",
        "\n",
        "# Define the number of sides on each die\n",
        "NUM_SIDES = 6\n",
        "\n",
        "def roll_dice():\n",
        "    \"\"\"Rolls a single die and returns the result.\"\"\"\n",
        "    return random.randint(1, NUM_SIDES)\n",
        "\n",
        "def main():\n",
        "    \"\"\"\n",
        "    Simulates rolling two dice, prints each roll,\n",
        "    and calculates the total.\n",
        "    \"\"\"\n",
        "    # Roll two dice\n",
        "    die1 = roll_dice()\n",
        "    die2 = roll_dice()\n",
        "\n",
        "    # Compute the total\n",
        "    total = die1 + die2\n",
        "\n",
        "    # Display results\n",
        "    print(f\"Dice have {NUM_SIDES} sides each.\")\n",
        "    print(f\"First die: {die1}\")\n",
        "    print(f\"Second die: {die2}\")\n",
        "    print(f\"Total of two dice: {total}\")\n",
        "\n",
        "# Required line to execute main() when running the script\n",
        "if __name__ == '__main__':\n",
        "    main()\n"
      ],
      "metadata": {
        "id": "YLW7tVGmxoUv",
        "colab": {
          "base_uri": "https://localhost:8080/"
        },
        "outputId": "622a8ec2-ff44-4fb6-91dc-0287462a638f"
      },
      "execution_count": 3,
      "outputs": [
        {
          "output_type": "stream",
          "name": "stdout",
          "text": [
            "Dice have 6 sides each.\n",
            "First die: 2\n",
            "Second die: 4\n",
            "Total of two dice: 6\n"
          ]
        }
      ]
    },
    {
      "cell_type": "markdown",
      "source": [
        "# **division_calculator**"
      ],
      "metadata": {
        "id": "vvQH6NO4xjgY"
      }
    },
    {
      "cell_type": "code",
      "source": [
        "\"\"\"\n",
        "Program: division_calculator\n",
        "------------------------------\n",
        "Asks the user for two integers, divides them, and prints\n",
        "both the quotient and the remainder.\n",
        "\"\"\"\n",
        "\n",
        "def main():\n",
        "    \"\"\"\n",
        "    Reads two integers from the user and calculates\n",
        "    the quotient and remainder.\n",
        "    \"\"\"\n",
        "    # Get user input\n",
        "    dividend = int(input(\"Please enter an integer to be divided: \"))\n",
        "    divisor = int(input(\"Please enter an integer to divide by: \"))\n",
        "\n",
        "    # Perform integer division and get remainder\n",
        "    quotient = dividend // divisor\n",
        "    remainder = dividend % divisor\n",
        "\n",
        "    # Display result\n",
        "    print(f\"The result of this division is {quotient} with a remainder of {remainder}\")\n",
        "\n",
        "# Required line to execute main() when running the script\n",
        "if __name__ == '__main__':\n",
        "    main()\n"
      ],
      "metadata": {
        "id": "spYXiDYOxBNw",
        "colab": {
          "base_uri": "https://localhost:8080/"
        },
        "outputId": "41ac2edd-7fad-420e-8614-8dd974802c02"
      },
      "execution_count": 5,
      "outputs": [
        {
          "output_type": "stream",
          "name": "stdout",
          "text": [
            "Please enter an integer to be divided: 10\n",
            "Please enter an integer to divide by: 40\n",
            "The result of this division is 0 with a remainder of 10\n"
          ]
        }
      ]
    },
    {
      "cell_type": "markdown",
      "source": [
        "# **hypotenuse_calculator**"
      ],
      "metadata": {
        "id": "G0JyvBgKxFUo"
      }
    },
    {
      "cell_type": "code",
      "source": [
        "\"\"\"\n",
        "Program: hypotenuse_calculator\n",
        "------------------------------\n",
        "Calculates the hypotenuse of a right triangle using the Pythagorean theorem:\n",
        "BC² = AB² + AC²\n",
        "\"\"\"\n",
        "\n",
        "import math  # Import math library to use sqrt function\n",
        "\n",
        "def main():\n",
        "    \"\"\"\n",
        "    Reads user input for the two perpendicular sides of a right triangle\n",
        "    and calculates the hypotenuse using the Pythagorean theorem.\n",
        "    \"\"\"\n",
        "    # Get the two side lengths from the user\n",
        "    ab = float(input(\"Enter the length of AB: \"))\n",
        "    ac = float(input(\"Enter the length of AC: \"))\n",
        "\n",
        "    # Calculate the hypotenuse\n",
        "    bc = math.sqrt(ab**2 + ac**2)\n",
        "\n",
        "    # Display result\n",
        "    print(f\"The length of BC (the hypotenuse) is: {bc:.2f}\")\n",
        "\n",
        "# Required line to execute main() when running the script\n",
        "if __name__ == '__main__':\n",
        "    main()\n"
      ],
      "metadata": {
        "id": "Ft7IAcpLwvy5",
        "colab": {
          "base_uri": "https://localhost:8080/"
        },
        "outputId": "431cb59c-cf57-47b4-91cb-78036c328f3f"
      },
      "execution_count": 6,
      "outputs": [
        {
          "output_type": "stream",
          "name": "stdout",
          "text": [
            "Enter the length of AB: 1\n",
            "Enter the length of AC: 1\n",
            "The length of BC (the hypotenuse) is: 1.41\n"
          ]
        }
      ]
    },
    {
      "cell_type": "markdown",
      "source": [
        "# **Feet to inches**"
      ],
      "metadata": {
        "id": "iwZcgR0VxNo4"
      }
    },
    {
      "cell_type": "code",
      "source": [
        "\"\"\"\n",
        "Program: feet_to_inches_converter\n",
        "---------------------------------\n",
        "Converts feet to inches.\n",
        "There are 12 inches per foot.\n",
        "\"\"\"\n",
        "\n",
        "# Define conversion factor\n",
        "INCHES_IN_FOOT = 12\n",
        "\n",
        "def main():\n",
        "    \"\"\"\n",
        "    Reads user input in feet and converts it to inches.\n",
        "    \"\"\"\n",
        "    # Get input from the user\n",
        "    feet = float(input(\"Enter number of feet: \"))\n",
        "\n",
        "    # Convert feet to inches\n",
        "    inches = feet * INCHES_IN_FOOT\n",
        "\n",
        "    # Display result\n",
        "    print(f\"That is {inches} inches!\")\n",
        "\n",
        "# Required line to execute main() when running the script\n",
        "if __name__ == '__main__':\n",
        "    main()\n"
      ],
      "metadata": {
        "id": "3ZdowCoUwp_q"
      },
      "execution_count": null,
      "outputs": []
    },
    {
      "cell_type": "markdown",
      "source": [
        "# **E=mc^2**"
      ],
      "metadata": {
        "id": "FxFFlsOYxSt_"
      }
    },
    {
      "cell_type": "code",
      "source": [
        "\"\"\"\n",
        "Program: mass_energy_calculator\n",
        "-------------------------------\n",
        "Calculates energy from mass using Einstein's mass-energy equivalence formula:\n",
        "E = m * C^2\n",
        "\"\"\"\n",
        "\n",
        "# Define the speed of light constant (in meters per second)\n",
        "C = 299792458\n",
        "\n",
        "def main():\n",
        "    \"\"\"\n",
        "    Reads mass input from the user and calculates the equivalent energy using E = m * C^2.\n",
        "    \"\"\"\n",
        "    # Get mass input from the user\n",
        "    mass_in_kg = float(input(\"Enter kilos of mass: \"))\n",
        "\n",
        "    # Calculate energy using Einstein's equation\n",
        "    energy_in_joules = mass_in_kg * (C ** 2)\n",
        "\n",
        "    # Display results\n",
        "    print(\"\\ne = m * C^2...\\n\")\n",
        "    print(f\"m = {mass_in_kg} kg\")\n",
        "    print(f\"C = {C} m/s\")\n",
        "    print(f\"\\n{energy_in_joules} joules of energy!\")\n",
        "\n",
        "# Required line to execute main() when running the script\n",
        "if __name__ == '__main__':\n",
        "    main()\n"
      ],
      "metadata": {
        "id": "xd8cwvc-wdgC",
        "colab": {
          "base_uri": "https://localhost:8080/"
        },
        "outputId": "5a785b82-4266-4b2b-e9d3-95672eb345da"
      },
      "execution_count": 7,
      "outputs": [
        {
          "output_type": "stream",
          "name": "stdout",
          "text": [
            "Enter kilos of mass: 2\n",
            "\n",
            "e = m * C^2...\n",
            "\n",
            "m = 2.0 kg\n",
            "C = 299792458 m/s\n",
            "\n",
            "1.7975103574736352e+17 joules of energy!\n"
          ]
        }
      ]
    },
    {
      "cell_type": "markdown",
      "source": [
        "# **dicesimulator**"
      ],
      "metadata": {
        "id": "3EVEsVG1wSga"
      }
    },
    {
      "cell_type": "code",
      "execution_count": 9,
      "metadata": {
        "id": "dkmw4IvsbEvC",
        "colab": {
          "base_uri": "https://localhost:8080/"
        },
        "outputId": "64db808c-2007-4ae6-c2cc-8f5de4bd8cbc"
      },
      "outputs": [
        {
          "output_type": "stream",
          "name": "stdout",
          "text": [
            "Dice have 6 sides each.\n",
            "First die: 3\n",
            "Second die: 3\n",
            "Total of two dice: 6\n"
          ]
        }
      ],
      "source": [
        "\"\"\"\n",
        "Simulate rolling two dice, and prints results of each\n",
        "roll as well as the total.\n",
        "\"\"\"\n",
        "# Import the random library which lets us simulate random things like dice!\n",
        "import random\n",
        "\n",
        "# Number of sides on each die to roll\n",
        "NUM_SIDES: int = 6\n",
        "\n",
        "def main():\n",
        "    # Setting a seed is useful for debugging (uncomment the line below to do so!)\n",
        "    # random.seed(1)\n",
        "\n",
        "    # Roll die\n",
        "    die1: int = random.randint(1, NUM_SIDES)\n",
        "    die2: int = random.randint(1, NUM_SIDES)\n",
        "\n",
        "    # Get their total\n",
        "    total: int = die1 + die2\n",
        "\n",
        "    # Print out the results\n",
        "    print(\"Dice have\", NUM_SIDES, \"sides each.\")\n",
        "    print(\"First die:\", die1)\n",
        "    print(\"Second die:\", die2)\n",
        "    print(\"Total of two dice:\", total)\n",
        "\n",
        "\n",
        "# This provided line is required at the end of a Python file\n",
        "# to call the main() function.\n",
        "if __name__ == '__main__':\n",
        "    main()"
      ]
    }
  ]
}