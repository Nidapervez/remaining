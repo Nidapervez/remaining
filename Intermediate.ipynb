{
  "nbformat": 4,
  "nbformat_minor": 0,
  "metadata": {
    "colab": {
      "provenance": [],
      "authorship_tag": "ABX9TyOSLBX8RSlT2RoCKV0kT2Tq",
      "include_colab_link": true
    },
    "kernelspec": {
      "name": "python3",
      "display_name": "Python 3"
    },
    "language_info": {
      "name": "python"
    }
  },
  "cells": [
    {
      "cell_type": "markdown",
      "metadata": {
        "id": "view-in-github",
        "colab_type": "text"
      },
      "source": [
        "<a href=\"https://colab.research.google.com/github/Nidapervez/project4/blob/main/Intermediate.ipynb\" target=\"_parent\"><img src=\"https://colab.research.google.com/assets/colab-badge.svg\" alt=\"Open In Colab\"/></a>"
      ]
    },
    {
      "cell_type": "markdown",
      "source": [
        "# **Handout**"
      ],
      "metadata": {
        "id": "c80CrA7Vf9Fb"
      }
    },
    {
      "cell_type": "code",
      "execution_count": null,
      "metadata": {
        "colab": {
          "base_uri": "https://localhost:8080/"
        },
        "id": "BGZ99e-jd2ZS",
        "outputId": "64c67ec3-d0b1-47ab-d553-5327eedee464"
      },
      "outputs": [
        {
          "output_type": "stream",
          "name": "stdout",
          "text": [
            "Welcome to the High-Low Game!\n",
            "--------------------------------\n",
            "Round 1\n",
            "Your number is 12\n",
            "Do you think your number is higher or lower than the computer's? (higher/lower): higher\n",
            "Aww, that's incorrect.\n",
            "The computer's number was 36\n",
            "Your score is now 0\n",
            "\n",
            "Round 2\n",
            "Your number is 55\n",
            "Do you think your number is higher or lower than the computer's? (higher/lower): lower\n",
            "You were right!\n",
            "The computer's number was 66\n",
            "Your score is now 1\n",
            "\n",
            "Round 3\n",
            "Your number is 41\n"
          ]
        }
      ],
      "source": [
        "import random\n",
        "\n",
        "def main():\n",
        "    NUM_ROUNDS = 5  # Set the number of rounds\n",
        "    score = 0\n",
        "\n",
        "    print(\"Welcome to the High-Low Game!\")\n",
        "    print(\"--------------------------------\")\n",
        "\n",
        "    for round_num in range(1, NUM_ROUNDS + 1):\n",
        "        print(f\"Round {round_num}\")\n",
        "        player_number = random.randint(1, 100)\n",
        "        computer_number = random.randint(1, 100)\n",
        "\n",
        "        print(f\"Your number is {player_number}\")\n",
        "\n",
        "        while True:\n",
        "            guess = input(\"Do you think your number is higher or lower than the computer's? (higher/lower): \").strip().lower()\n",
        "            if guess in [\"higher\", \"lower\"]:\n",
        "                break\n",
        "            print(\"Please enter either higher or lower.\")\n",
        "\n",
        "        if (guess == \"higher\" and player_number > computer_number) or \\\n",
        "           (guess == \"lower\" and player_number < computer_number):\n",
        "            print(\"You were right!\")\n",
        "            score += 1\n",
        "        else:\n",
        "            print(\"Aww, that's incorrect.\")\n",
        "\n",
        "        print(f\"The computer's number was {computer_number}\")\n",
        "        print(f\"Your score is now {score}\\n\")\n",
        "\n",
        "    print(\"Thanks for playing!\")\n",
        "    if score == NUM_ROUNDS:\n",
        "        print(\"Wow! You played perfectly!\")\n",
        "    elif score >= NUM_ROUNDS // 2:\n",
        "        print(\"Good job, you played really well!\")\n",
        "    else:\n",
        "        print(\"Better luck next time!\")\n",
        "\n",
        "if __name__ == '__main__':\n",
        "    main()"
      ]
    },
    {
      "cell_type": "markdown",
      "source": [
        "# **Planetary Weight Calculator**"
      ],
      "metadata": {
        "id": "-V3xzuYki3v-"
      }
    },
    {
      "cell_type": "code",
      "source": [
        "# Define gravitational constants for planets\n",
        "GRAVITY = {\n",
        "    \"Mercury\": 0.376,\n",
        "    \"Venus\": 0.889,\n",
        "    \"Earth\": 1.0,\n",
        "    \"Mars\": 0.378,\n",
        "    \"Jupiter\": 2.36,\n",
        "    \"Saturn\": 1.081,\n",
        "    \"Uranus\": 0.815,\n",
        "    \"Neptune\": 1.14\n",
        "}\n",
        "\n",
        "def main():\n",
        "    # Prompt the user for their weight on Earth\n",
        "    earth_weight = float(input(\"Enter a weight on Earth: \"))\n",
        "\n",
        "    # Prompt the user for the name of a planet\n",
        "    planet = input(\"Enter a planet (e.g., Mars, Jupiter): \")\n",
        "\n",
        "    # Check if the planet is valid\n",
        "    if planet in GRAVITY:\n",
        "        # Calculate the equivalent weight\n",
        "        planetary_weight = round(earth_weight * GRAVITY[planet], 2)\n",
        "        print(f\"The equivalent weight on {planet}: {planetary_weight}\")\n",
        "    else:\n",
        "        print(\"Invalid planet name. Please enter a valid planet.\")\n",
        "\n",
        "# Required to run the program\n",
        "if __name__ == \"__main__\":\n",
        "    main()\n"
      ],
      "metadata": {
        "id": "ha4adi7il82d"
      },
      "execution_count": null,
      "outputs": []
    },
    {
      "cell_type": "markdown",
      "source": [
        "# **Index Game**"
      ],
      "metadata": {
        "id": "j9BNfDCriSev"
      }
    },
    {
      "cell_type": "code",
      "source": [
        "# Index Game Solution\n",
        "\n",
        "def access_element(lst, index):\n",
        "    try:\n",
        "        return lst[index]\n",
        "    except IndexError:\n",
        "        return \"Index out of range.\"\n",
        "\n",
        "def modify_element(lst, index, new_value):\n",
        "    try:\n",
        "        lst[index] = new_value\n",
        "        return lst\n",
        "    except IndexError:\n",
        "        return \"Index out of range.\"\n",
        "\n",
        "def slice_list(lst, start, end):\n",
        "    try:\n",
        "        return lst[start:end]\n",
        "    except IndexError:\n",
        "        return \"Invalid indices.\"\n",
        "\n",
        "def index_game():\n",
        "    lst = [1, 2, 3, 4, 5]  # Example list\n",
        "    print(\"Current list:\", lst)\n",
        "    print(\"Choose an operation: access, modify, slice\")\n",
        "    operation = input(\"Enter operation: \")\n",
        "\n",
        "    if operation == \"access\":\n",
        "        index = int(input(\"Enter index to access: \"))\n",
        "        print(access_element(lst, index))\n",
        "    elif operation == \"modify\":\n",
        "        index = int(input(\"Enter index to modify: \"))\n",
        "        new_value = input(\"Enter new value: \")\n",
        "        print(modify_element(lst, index, new_value))\n",
        "    elif operation == \"slice\":\n",
        "        start = int(input(\"Enter start index: \"))\n",
        "        end = int(input(\"Enter end index: \"))\n",
        "        print(slice_list(lst, start, end))\n",
        "    else:\n",
        "        print(\"Invalid operation.\")\n",
        "\n",
        "index_game()\n"
      ],
      "metadata": {
        "id": "AV90_ZjViH9C",
        "colab": {
          "base_uri": "https://localhost:8080/"
        },
        "outputId": "4641049b-6317-4bb6-bc6d-6e26a5c239d0"
      },
      "execution_count": 5,
      "outputs": [
        {
          "output_type": "stream",
          "name": "stdout",
          "text": [
            "Current list: [1, 2, 3, 4, 5]\n",
            "Choose an operation: access, modify, slice\n",
            "Enter operation: access\n",
            "Enter index to access: 2\n",
            "3\n"
          ]
        }
      ]
    }
  ]
}