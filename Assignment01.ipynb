{
  "nbformat": 4,
  "nbformat_minor": 0,
  "metadata": {
    "colab": {
      "provenance": [],
      "authorship_tag": "ABX9TyOLmfiA8TskiLE+9M51FrQ4",
      "include_colab_link": true
    },
    "kernelspec": {
      "name": "python3",
      "display_name": "Python 3"
    },
    "language_info": {
      "name": "python"
    }
  },
  "cells": [
    {
      "cell_type": "markdown",
      "metadata": {
        "id": "view-in-github",
        "colab_type": "text"
      },
      "source": [
        "<a href=\"https://colab.research.google.com/github/Nidapervez/project4/blob/main/Assignment01.ipynb\" target=\"_parent\"><img src=\"https://colab.research.google.com/assets/colab-badge.svg\" alt=\"Open In Colab\"/></a>"
      ]
    },
    {
      "cell_type": "markdown",
      "source": [
        "# QR code encoder / decoder Python Project"
      ],
      "metadata": {
        "id": "L6so2kuyC11q"
      }
    },
    {
      "cell_type": "code",
      "source": [
        "import qrcode\n",
        "\n",
        "def generate_qr_code(data, filename=\"qrcode.png\"):\n",
        "    qr = qrcode.QRCode(\n",
        "        version=1,\n",
        "        error_correction=qrcode.constants.ERROR_CORRECT_L,\n",
        "        box_size=10,\n",
        "        border=4\n",
        "    )\n",
        "    qr.add_data(data)\n",
        "    qr.make(fit=True)\n",
        "\n",
        "    img = qr.make_image(fill=\"black\", back_color=\"white\")\n",
        "    img.save(filename)\n",
        "    print(f\"QR Code saved as {filename}\")\n",
        "\n",
        "# Example usage\n",
        "generate_qr_code(\"https://github.com\")\n"
      ],
      "metadata": {
        "colab": {
          "base_uri": "https://localhost:8080/"
        },
        "id": "Cdze9_wOyqHA",
        "outputId": "1211ce45-83c1-443a-d4de-ee21a5431d40"
      },
      "execution_count": 6,
      "outputs": [
        {
          "output_type": "stream",
          "name": "stdout",
          "text": [
            "QR Code saved as qrcode.png\n"
          ]
        }
      ]
    },
    {
      "cell_type": "markdown",
      "source": [
        "**QR Decoder**"
      ],
      "metadata": {
        "id": "kE46eXxJ7yvt"
      }
    },
    {
      "cell_type": "code",
      "source": [
        "import cv2\n",
        "from pyzbar.pyzbar import decode\n",
        "\n",
        "def decode_qr_code(image_path):\n",
        "    img = cv2.imread(image_path)\n",
        "    decoded_objects = decode(img)\n",
        "\n",
        "    for obj in decoded_objects:\n",
        "        print(\"Decoded Data:\", obj.data.decode(\"utf-8\"))\n",
        "        return obj.data.decode(\"utf-8\")\n",
        "\n",
        "    return None\n",
        "\n",
        "# Example usage\n",
        "decode_qr_code(\"qrcode.png\")\n",
        "\n"
      ],
      "metadata": {
        "colab": {
          "base_uri": "https://localhost:8080/",
          "height": 53
        },
        "id": "2eUycN7rzEB2",
        "outputId": "25a2d378-e491-4e29-fd99-9e92917564e2"
      },
      "execution_count": 12,
      "outputs": [
        {
          "output_type": "stream",
          "name": "stdout",
          "text": [
            "Decoded Data: https://github.com\n"
          ]
        },
        {
          "output_type": "execute_result",
          "data": {
            "text/plain": [
              "'https://github.com'"
            ],
            "application/vnd.google.colaboratory.intrinsic+json": {
              "type": "string"
            }
          },
          "metadata": {},
          "execution_count": 12
        }
      ]
    },
    {
      "cell_type": "markdown",
      "source": [
        "# TIC TAC TOE"
      ],
      "metadata": {
        "id": "Uo0hLa8Z1EQC"
      }
    },
    {
      "cell_type": "code",
      "source": [
        "def print_board(board):\n",
        "    for row in board:\n",
        "        print(\" | \".join(row))\n",
        "        print(\"-\" * 9)\n",
        "\n",
        "def check_winner(board, player):\n",
        "    # Check rows, columns, and diagonals\n",
        "    for row in board:\n",
        "        if all(cell == player for cell in row):\n",
        "            return True\n",
        "\n",
        "    for col in range(3):\n",
        "        if all(board[row][col] == player for row in range(3)):\n",
        "            return True\n",
        "\n",
        "    if all(board[i][i] == player for i in range(3)) or all(board[i][2 - i] == player for i in range(3)):\n",
        "        return True\n",
        "\n",
        "    return False\n",
        "\n",
        "def is_draw(board):\n",
        "    return all(cell in [\"X\", \"O\"] for row in board for cell in row)\n",
        "\n",
        "def tic_tac_toe():\n",
        "    board = [[\" \" for _ in range(3)] for _ in range(3)]\n",
        "    players = [\"X\", \"O\"]\n",
        "    turn = 0\n",
        "\n",
        "    while True:\n",
        "        print_board(board)\n",
        "        player = players[turn % 2]\n",
        "        print(f\"Player {player}, enter your move (row and column 1-3, space separated): \", end=\"\")\n",
        "\n",
        "        try:\n",
        "            row, col = map(int, input().split())\n",
        "            row, col = row - 1, col - 1  # Convert to 0-based index\n",
        "            if board[row][col] != \" \":\n",
        "                print(\"⚠️ Spot already taken. Try again.\")\n",
        "                continue\n",
        "            board[row][col] = player\n",
        "        except (ValueError, IndexError):\n",
        "            print(\"⚠️ Invalid input. Enter two numbers between 1 and 3.\")\n",
        "            continue\n",
        "\n",
        "        if check_winner(board, player):\n",
        "            print_board(board)\n",
        "            print(f\"🎉 Player {player} wins!\")\n",
        "            break\n",
        "\n",
        "        if is_draw(board):\n",
        "            print_board(board)\n",
        "            print(\"🤝 It's a draw!\")\n",
        "            break\n",
        "\n",
        "        turn += 1\n",
        "\n",
        "# Run the game\n",
        "tic_tac_toe()\n"
      ],
      "metadata": {
        "colab": {
          "base_uri": "https://localhost:8080/"
        },
        "id": "z3B2tTAf0_O5",
        "outputId": "90100d8d-6dee-4eb0-92ac-d45d3994dad6"
      },
      "execution_count": null,
      "outputs": [
        {
          "output_type": "stream",
          "name": "stdout",
          "text": [
            "  |   |  \n",
            "---------\n",
            "  |   |  \n",
            "---------\n",
            "  |   |  \n",
            "---------\n",
            "Player X, enter your move (row and column 1-3, space separated): "
          ]
        }
      ]
    },
    {
      "cell_type": "markdown",
      "source": [
        "# **Binary Search python project**"
      ],
      "metadata": {
        "id": "xLjgoqzC1sG3"
      }
    },
    {
      "cell_type": "code",
      "source": [
        "import time\n",
        "\n",
        "def binary_search_iterative(arr, target):\n",
        "    left, right = 0, len(arr) - 1\n",
        "    while left <= right:\n",
        "        mid = (left + right) // 2\n",
        "        if arr[mid] == target:\n",
        "            return mid  # Target found\n",
        "        elif arr[mid] < target:\n",
        "            left = mid + 1\n",
        "        else:\n",
        "            right = mid - 1\n",
        "    return -1  # Target not found\n",
        "\n",
        "def binary_search_recursive(arr, target, left, right):\n",
        "    if left > right:\n",
        "        return -1  # Target not found\n",
        "\n",
        "    mid = (left + right) // 2\n",
        "    if arr[mid] == target:\n",
        "        return mid\n",
        "    elif arr[mid] < target:\n",
        "        return binary_search_recursive(arr, target, mid + 1, right)\n",
        "    else:\n",
        "        return binary_search_recursive(arr, target, left, mid - 1)\n",
        "\n",
        "# Get user input and search for the number\n",
        "def main():\n",
        "    arr = sorted(map(int, input(\"Enter sorted numbers (space-separated): \").split()))\n",
        "    target = int(input(\"Enter the number to search: \"))\n",
        "\n",
        "    start_time = time.time()\n",
        "    result_iterative = binary_search_iterative(arr, target)\n",
        "    end_time = time.time()\n",
        "    print(f\"Iterative Search Result: {'Found at index ' + str(result_iterative) if result_iterative != -1 else 'Not found'}\")\n",
        "    print(f\"Time taken: {end_time - start_time:.6f} seconds\")\n",
        "\n",
        "    start_time = time.time()\n",
        "    result_recursive = binary_search_recursive(arr, target, 0, len(arr) - 1)\n",
        "    end_time = time.time()\n",
        "    print(f\"Recursive Search Result: {'Found at index ' + str(result_recursive) if result_recursive != -1 else 'Not found'}\")\n",
        "    print(f\"Time taken: {end_time - start_time:.6f} seconds\")\n",
        "\n",
        "# Run the program\n",
        "if __name__ == \"__main__\":\n",
        "    main()\n"
      ],
      "metadata": {
        "id": "R0JRnN4M1mE4"
      },
      "execution_count": null,
      "outputs": []
    },
    {
      "cell_type": "markdown",
      "source": [
        "# **Python Code for Bulk File Renaming**"
      ],
      "metadata": {
        "id": "gdKjH5292fZU"
      }
    },
    {
      "cell_type": "code",
      "source": [
        "import os\n",
        "\n",
        "def bulk_rename_files(directory, prefix=\"\", suffix=\"\", start_number=1, change_extension=None):\n",
        "    if not os.path.exists(directory):\n",
        "        print(\"⚠️ Directory not found!\")\n",
        "        return\n",
        "\n",
        "    files = sorted(os.listdir(directory))  # Sorting to maintain order\n",
        "    if not files:\n",
        "        print(\"⚠️ No files found in the directory.\")\n",
        "        return\n",
        "\n",
        "    renamed_files = []\n",
        "\n",
        "    for index, filename in enumerate(files, start=start_number):\n",
        "        old_path = os.path.join(directory, filename)\n",
        "\n",
        "        if os.path.isfile(old_path):  # Ignore folders\n",
        "            name, ext = os.path.splitext(filename)\n",
        "            new_ext = change_extension if change_extension else ext\n",
        "            new_name = f\"{prefix}{index}{suffix}{new_ext}\"\n",
        "            new_path = os.path.join(directory, new_name)\n",
        "\n",
        "            os.rename(old_path, new_path)\n",
        "            renamed_files.append((filename, new_name))\n",
        "\n",
        "    print(\"\\n✅ Bulk Rename Completed! Here's the summary:\")\n",
        "    for old, new in renamed_files:\n",
        "        print(f\"{old} → {new}\")\n",
        "\n",
        "# 🚀 Example Usage\n",
        "if __name__ == \"__main__\":\n",
        "    folder_path = input(\"Enter folder path: \")\n",
        "    prefix = input(\"Enter prefix (optional): \")\n",
        "    suffix = input(\"Enter suffix (optional): \")\n",
        "    start_number = int(input(\"Enter starting number (default 1): \") or 1)\n",
        "    change_ext = input(\"Enter new extension (e.g., .jpg) or press Enter to keep original: \")\n",
        "    bulk_rename_files(folder_path, prefix, suffix, start_number, change_ext)\n"
      ],
      "metadata": {
        "id": "8y0bAAvU2UQV"
      },
      "execution_count": null,
      "outputs": []
    },
    {
      "cell_type": "markdown",
      "source": [],
      "metadata": {
        "id": "lSJSWKBD2VCw"
      }
    },
    {
      "cell_type": "markdown",
      "source": [
        "# **Weather Program - Python Project**"
      ],
      "metadata": {
        "id": "BLLsfWSw22XE"
      }
    },
    {
      "cell_type": "code",
      "source": [
        "import requests\n",
        "\n",
        "def get_weather(city):\n",
        "    API_KEY = \"your_api_key_here\"  # Replace with your OpenWeatherMap API Key\n",
        "    BASE_URL = \"http://api.openweathermap.org/data/2.5/weather\"\n",
        "\n",
        "    params = {\n",
        "        \"q\": city,\n",
        "        \"appid\": API_KEY,\n",
        "        \"units\": \"metric\"  # Use \"imperial\" for Fahrenheit\n",
        "    }\n",
        "\n",
        "    response = requests.get(BASE_URL, params=params)\n",
        "\n",
        "    if response.status_code == 200:\n",
        "        data = response.json()\n",
        "        weather_desc = data[\"weather\"][0][\"description\"].title()\n",
        "        temp = data[\"main\"][\"temp\"]\n",
        "        humidity = data[\"main\"][\"humidity\"]\n",
        "        wind_speed = data[\"wind\"][\"speed\"]\n",
        "\n",
        "        print(f\"\\n🌍 Weather in {city.title()}:\\n\"\n",
        "              f\"🌡️ Temperature: {temp}°C\\n\"\n",
        "              f\"💧 Humidity: {humidity}%\\n\"\n",
        "              f\"💨 Wind Speed: {wind_speed} m/s\\n\"\n",
        "              f\"☁️ Condition: {weather_desc}\")\n",
        "\n",
        "    else:\n",
        "        print(\"⚠️ Error: City not found or API issue\")\n"
      ],
      "metadata": {
        "id": "gZd_8EEd2vFW"
      },
      "execution_count": null,
      "outputs": []
    },
    {
      "cell_type": "markdown",
      "source": [],
      "metadata": {
        "id": "hqwaFznU-ox7"
      }
    },
    {
      "cell_type": "markdown",
      "source": [],
      "metadata": {
        "id": "_-C6MFgq-r18"
      }
    },
    {
      "cell_type": "markdown",
      "source": [
        "# **Build Data Driven python project on streamlit** [Streamlit link](https://data-driven-python.streamlit.app/) **bold text**"
      ],
      "metadata": {
        "id": "THCqYUcM-ORf"
      }
    },
    {
      "cell_type": "code",
      "source": [
        "import streamlit as st\n",
        "import pandas as pd\n",
        "import plotly.express as px\n",
        "\n",
        "# Streamlit App Title\n",
        "st.title(\"📊 Data-Driven Streamlit Dashboard\")\n",
        "\n",
        "# Upload CSV File\n",
        "uploaded_file = st.file_uploader(\"Upload your CSV file\", type=[\"csv\"])\n",
        "\n",
        "if uploaded_file:\n",
        "    df = pd.read_csv(uploaded_file)\n",
        "\n",
        "    # Display Data\n",
        "    st.subheader(\"📜 Dataset Preview\")\n",
        "    st.write(df.head())\n",
        "\n",
        "    # Show Summary\n",
        "    st.subheader(\"📊 Dataset Summary\")\n",
        "    st.write(df.describe())\n",
        "\n",
        "    # Select Column for Visualization\n",
        "    column = st.selectbox(\"Select a column for visualization\", df.columns)\n",
        "\n",
        "    # Generate Charts\n",
        "    if df[column].dtype in ['int64', 'float64']:  # Numeric data\n",
        "        fig = px.histogram(df, x=column, title=f\"Distribution of {column}\")\n",
        "        st.plotly_chart(fig)\n",
        "\n",
        "    elif df[column].dtype == 'object':  # Categorical data\n",
        "        fig = px.bar(df[column].value_counts(), title=f\"Counts of {column}\")\n",
        "        st.plotly_chart(fig)\n",
        "\n",
        "    # Data Filtering\n",
        "    st.subheader(\"🔍 Data Filtering\")\n",
        "    filter_value = st.text_input(f\"Filter rows where {column} contains:\")\n",
        "    if filter_value:\n",
        "        filtered_df = df[df[column].astype(str).str.contains(filter_value, case=False)]\n",
        "        st.write(filtered_df)\n",
        "\n",
        "    # Download Processed Data\n",
        "    st.subheader(\"⬇️ Download Processed Data\")\n",
        "    csv = filtered_df.to_csv(index=False).encode('utf-8')\n",
        "    st.download_button(\"Download CSV\", csv, \"filtered_data.csv\", \"text/csv\")\n",
        "\n",
        "else:\n",
        "    st.warning(\"Please upload a CSV file to start analyzing data.\")\n",
        "\n"
      ],
      "metadata": {
        "id": "UpXAhhM3-MfO"
      },
      "execution_count": null,
      "outputs": []
    },
    {
      "cell_type": "markdown",
      "source": [
        "# **Country Card Project ** [Streamlit link](https://country-information-app.streamlit.app/)**bold text**"
      ],
      "metadata": {
        "id": "fWRPcpuM_Fm5"
      }
    },
    {
      "cell_type": "code",
      "source": [
        "import streamlit as st\n",
        "import requests\n",
        "\n",
        "# Function to get country data\n",
        "def get_country_info(country):\n",
        "    url = f\"https://restcountries.com/v3.1/name/{country}\"\n",
        "    response = requests.get(url)\n",
        "\n",
        "    if response.status_code == 200:\n",
        "        data = response.json()[0]\n",
        "        country_info = {\n",
        "            \"Flag\": data[\"flags\"][\"png\"],\n",
        "            \"Name\": data[\"name\"][\"common\"],\n",
        "            \"Official Name\": data[\"name\"][\"official\"],\n",
        "            \"Capital\": \", \".join(data.get(\"capital\", [\"N/A\"])),\n",
        "            \"Population\": f\"{data['population']:,}\",\n",
        "            \"Area\": f\"{data['area']:,} km²\",\n",
        "            \"Region\": data[\"region\"],\n",
        "            \"Subregion\": data[\"subregion\"],\n",
        "            \"Currency\": list(data[\"currencies\"].values())[0][\"name\"] if \"currencies\" in data else \"N/A\",\n",
        "            \"Language\": \", \".join(data[\"languages\"].values()) if \"languages\" in data else \"N/A\",\n",
        "        }\n",
        "        return country_info\n",
        "    else:\n",
        "        return None\n",
        "\n",
        "# Streamlit App UI\n",
        "st.set_page_config(page_title=\"Country Information\", layout=\"centered\")\n",
        "\n",
        "st.title(\"🌍 Country Information App\")\n",
        "st.write(\"Enter a country name to get details.\")\n",
        "\n",
        "# User input\n",
        "country = st.text_input(\"Enter country name:\", \"Pakistan\")\n",
        "\n",
        "if st.button(\"Search\"):\n",
        "    country_data = get_country_info(country)\n",
        "\n",
        "    if country_data:\n",
        "        st.image(country_data[\"Flag\"], width=200)\n",
        "        st.subheader(country_data[\"Name\"])\n",
        "        st.write(f\"**Official Name:** {country_data['Official Name']}\")\n",
        "        st.write(f\"**Capital:** {country_data['Capital']}\")\n",
        "        st.write(f\"**Population:** {country_data['Population']}\")\n",
        "        st.write(f\"**Area:** {country_data['Area']}\")\n",
        "        st.write(f\"**Region:** {country_data['Region']} ({country_data['Subregion']})\")\n",
        "        st.write(f\"**Currency:** {country_data['Currency']}\")\n",
        "        st.write(f\"**Language(s):** {country_data['Language']}\")\n",
        "    else:\n",
        "        st.error(\"❌ Country not found! Please try again.\")\n"
      ],
      "metadata": {
        "id": "pbCIY22Z_Av7"
      },
      "execution_count": null,
      "outputs": []
    }
  ]
}